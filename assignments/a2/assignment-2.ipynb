{
 "cells": [
  {
   "cell_type": "markdown",
   "id": "f55599ce",
   "metadata": {},
   "source": [
    "$$\n",
    " \\gamma_0 = \\sum_{i}^{n}\\frac{0.5f_{2, \\lambda_{0}}(x_i)}{(1-0.5)f_{1, \\mu_{0}}(x_i) + 0.5f_{2, \\lambda_{0}}(x_i)}\n",
    "$$"
   ]
  },
  {
   "cell_type": "code",
   "execution_count": 3,
   "id": "fc30670d",
   "metadata": {
    "ExecuteTime": {
     "end_time": "2021-09-28T07:50:50.016904Z",
     "start_time": "2021-09-28T07:50:48.470Z"
    }
   },
   "outputs": [
    {
     "data": {
      "text/html": [
       "13"
      ],
      "text/latex": [
       "13"
      ],
      "text/markdown": [
       "13"
      ],
      "text/plain": [
       "[1] 13"
      ]
     },
     "metadata": {},
     "output_type": "display_data"
    }
   ],
   "source": [
    "x = c(1, 2, 3, 8 ,12)\n",
    "\n",
    "sum(0.5 * x)"
   ]
  },
  {
   "cell_type": "code",
   "execution_count": 4,
   "id": "fc732873",
   "metadata": {
    "ExecuteTime": {
     "end_time": "2021-09-28T07:50:50.028594Z",
     "start_time": "2021-09-28T07:50:48.471Z"
    }
   },
   "outputs": [
    {
     "data": {
      "text/html": [
       "<ol class=list-inline>\n",
       "\t<li>0.270670566473225</li>\n",
       "\t<li>0.270670566473225</li>\n",
       "\t<li>0.180447044315484</li>\n",
       "\t<li>0.000859271639597541</li>\n",
       "\t<li>1.15726820147817e-06</li>\n",
       "</ol>\n"
      ],
      "text/latex": [
       "\\begin{enumerate*}\n",
       "\\item 0.270670566473225\n",
       "\\item 0.270670566473225\n",
       "\\item 0.180447044315484\n",
       "\\item 0.000859271639597541\n",
       "\\item 1.15726820147817e-06\n",
       "\\end{enumerate*}\n"
      ],
      "text/markdown": [
       "1. 0.270670566473225\n",
       "2. 0.270670566473225\n",
       "3. 0.180447044315484\n",
       "4. 0.000859271639597541\n",
       "5. 1.15726820147817e-06\n",
       "\n",
       "\n"
      ],
      "text/plain": [
       "[1] 2.706706e-01 2.706706e-01 1.804470e-01 8.592716e-04 1.157268e-06"
      ]
     },
     "metadata": {},
     "output_type": "display_data"
    }
   ],
   "source": [
    "lambda <- 2\n",
    "mu <- 8\n",
    "\n",
    "dpois(x, lambda, log = FALSE)"
   ]
  },
  {
   "cell_type": "code",
   "execution_count": 5,
   "id": "d5a59481",
   "metadata": {
    "ExecuteTime": {
     "end_time": "2021-09-28T07:50:50.036208Z",
     "start_time": "2021-09-28T07:50:48.473Z"
    }
   },
   "outputs": [
    {
     "data": {
      "text/html": [
       "<ol class=list-inline>\n",
       "\t<li>0.0026837010232201</li>\n",
       "\t<li>0.0107348040928804</li>\n",
       "\t<li>0.028626144247681</li>\n",
       "\t<li>0.139586531950597</li>\n",
       "\t<li>0.0481268042819567</li>\n",
       "</ol>\n"
      ],
      "text/latex": [
       "\\begin{enumerate*}\n",
       "\\item 0.0026837010232201\n",
       "\\item 0.0107348040928804\n",
       "\\item 0.028626144247681\n",
       "\\item 0.139586531950597\n",
       "\\item 0.0481268042819567\n",
       "\\end{enumerate*}\n"
      ],
      "text/markdown": [
       "1. 0.0026837010232201\n",
       "2. 0.0107348040928804\n",
       "3. 0.028626144247681\n",
       "4. 0.139586531950597\n",
       "5. 0.0481268042819567\n",
       "\n",
       "\n"
      ],
      "text/plain": [
       "[1] 0.002683701 0.010734804 0.028626144 0.139586532 0.048126804"
      ]
     },
     "metadata": {},
     "output_type": "display_data"
    }
   ],
   "source": [
    "dpois(x, mu, log=FALSE)"
   ]
  },
  {
   "cell_type": "code",
   "execution_count": 6,
   "id": "018a5b45",
   "metadata": {
    "ExecuteTime": {
     "end_time": "2021-09-28T07:50:50.042074Z",
     "start_time": "2021-09-28T07:50:48.474Z"
    }
   },
   "outputs": [],
   "source": [
    "gamma <- sum(0.5*dpois(x, lambda, log=FALSE )/((1-0.5)*dpois(x, mu, log=FALSE) + 0.5*dpois(x, lambda, log=FALSE)))"
   ]
  },
  {
   "cell_type": "code",
   "execution_count": 15,
   "id": "21fec5cb",
   "metadata": {
    "ExecuteTime": {
     "end_time": "2021-09-28T07:51:25.685893Z",
     "start_time": "2021-09-28T07:51:25.677Z"
    }
   },
   "outputs": [
    {
     "data": {
      "text/html": [
       "1.96804542968633"
      ],
      "text/latex": [
       "1.96804542968633"
      ],
      "text/markdown": [
       "1.96804542968633"
      ],
      "text/plain": [
       "[1] 1.968045"
      ]
     },
     "metadata": {},
     "output_type": "display_data"
    }
   ],
   "source": [
    "sum(x*(1-gamma))/sum(1-gamma)"
   ]
  },
  {
   "cell_type": "code",
   "execution_count": 16,
   "id": "7e570f5d",
   "metadata": {
    "ExecuteTime": {
     "end_time": "2021-09-28T07:51:26.827976Z",
     "start_time": "2021-09-28T07:51:26.819Z"
    }
   },
   "outputs": [
    {
     "data": {
      "text/html": [
       "9.38506598786482"
      ],
      "text/latex": [
       "9.38506598786482"
      ],
      "text/markdown": [
       "9.38506598786482"
      ],
      "text/plain": [
       "[1] 9.385066"
      ]
     },
     "metadata": {},
     "output_type": "display_data"
    }
   ],
   "source": [
    "sum(x*gamma)/sum(gamma)"
   ]
  },
  {
   "cell_type": "code",
   "execution_count": 9,
   "id": "19b0c848",
   "metadata": {
    "ExecuteTime": {
     "end_time": "2021-09-28T07:50:50.064827Z",
     "start_time": "2021-09-28T07:50:48.478Z"
    }
   },
   "outputs": [
    {
     "data": {
      "text/html": [
       "5"
      ],
      "text/latex": [
       "5"
      ],
      "text/markdown": [
       "5"
      ],
      "text/plain": [
       "[1] 5"
      ]
     },
     "metadata": {},
     "output_type": "display_data"
    }
   ],
   "source": [
    "length(x)"
   ]
  },
  {
   "cell_type": "markdown",
   "id": "14e54461",
   "metadata": {},
   "source": [
    "b. Write R code to perform the EM Algorithm and include in the R code an appropriate stopping \n",
    "tolerance level. [10]"
   ]
  },
  {
   "cell_type": "code",
   "execution_count": 17,
   "id": "54db8267",
   "metadata": {
    "ExecuteTime": {
     "end_time": "2021-09-28T08:03:48.498145Z",
     "start_time": "2021-09-28T08:03:48.490Z"
    }
   },
   "outputs": [],
   "source": [
    "e_step <- function(x, mean_1, mean_2, pi) {\n",
    "    return(\n",
    "        (pi * dpois(x, mean_2, log=FALSE))/\n",
    "        ((1-pi)*dpois(x, mean_1, log=FALSE) + pi*dpois(x, mean_2, log=FALSE))\n",
    "    )\n",
    "}\n",
    "\n",
    "m_step <- function(x, gamma) {\n",
    "    mean_1 = sum(x*(1-gamma))/sum(1-gamma)\n",
    "    mean_2 = sum(x*gamma)/sum(gamma)\n",
    "\n",
    "    return(c(mean_1, mean_2))\n",
    "}"
   ]
  },
  {
   "cell_type": "code",
   "execution_count": 11,
   "id": "cf4cac36",
   "metadata": {
    "ExecuteTime": {
     "end_time": "2021-09-28T07:50:50.078592Z",
     "start_time": "2021-09-28T07:50:48.480Z"
    }
   },
   "outputs": [
    {
     "data": {
      "text/html": [
       "<ol class=list-inline>\n",
       "\t<li>1.96804542968633</li>\n",
       "\t<li>9.38506598786482</li>\n",
       "</ol>\n"
      ],
      "text/latex": [
       "\\begin{enumerate*}\n",
       "\\item 1.96804542968633\n",
       "\\item 9.38506598786482\n",
       "\\end{enumerate*}\n"
      ],
      "text/markdown": [
       "1. 1.96804542968633\n",
       "2. 9.38506598786482\n",
       "\n",
       "\n"
      ],
      "text/plain": [
       "[1] 1.968045 9.385066"
      ]
     },
     "metadata": {},
     "output_type": "display_data"
    }
   ],
   "source": [
    "gamma <- e_step(x, 2, 8, 0.5)\n",
    "m_step(x, gamma)"
   ]
  },
  {
   "cell_type": "code",
   "execution_count": 25,
   "id": "61ed72fa",
   "metadata": {
    "ExecuteTime": {
     "end_time": "2021-09-28T08:13:17.959689Z",
     "start_time": "2021-09-28T08:13:17.948Z"
    }
   },
   "outputs": [],
   "source": [
    "e_step <- function(x, mean_1, mean_2, pi) {\n",
    "    return(\n",
    "        (pi * dpois(x, mean_2, log=FALSE))/\n",
    "        ((1-pi)*dpois(x, mean_1, log=FALSE) + pi*dpois(x, mean_2, log=FALSE))\n",
    "    )\n",
    "}\n",
    "\n",
    "m_step <- function(x, gamma) {\n",
    "    mean_1 = sum(x*(1-gamma))/sum(1-gamma)\n",
    "    mean_2 = sum(x*gamma)/sum(gamma)\n",
    "\n",
    "    return(c(mean_1, mean_2))\n",
    "}\n",
    "\n",
    "e_m <- function(x, mean_1_0, mean_2_0, pi_0, tol=1e-10, max_iter=1000) {\n",
    "    # specifies change of means at every iteration\n",
    "    delta <- Inf\n",
    "    # wrap both means into vector\n",
    "    means <- c(mean_1_0, mean_2_0)\n",
    "    pi <- pi_0\n",
    "    iter <- 1\n",
    "    \n",
    "    \n",
    "    while (delta > tol) {\n",
    "        # update new gamma values in expectation step\n",
    "        gamma_prev <- e_step(x, means[1], means[2], pi)\n",
    "        # use updated gamma to maximize both means in  maximization step\n",
    "        new_means <- m_step(x, gamma_prev)\n",
    "        means <- new_means\n",
    "        # update pi (proportion) \n",
    "        pi <- sum(gamma_prev)/length(x)\n",
    "        \n",
    "        # calculate change in old and new estimates \n",
    "        delta <- abs(new_means[1]-means[1] + new_means[2]-means[2])\n",
    "        iter <- iter + 1\n",
    "        \n",
    "        \n",
    "        # if gradients explode, return error\n",
    "        if (is.na(delta)) {\n",
    "            return(\"ERROR: EXPLOSION\")\n",
    "        }\n",
    "        \n",
    "        # if more than max_iter or change is below tolerance, stop and return\n",
    "        if (iter >= max_iter | delta < tol) {\n",
    "            print(i)\n",
    "             return(c(new_means, pi))  \n",
    "        }\n",
    " \n",
    "                \n",
    "    }\n",
    "    return(c(new_means, pi))  \n",
    "}"
   ]
  },
  {
   "cell_type": "code",
   "execution_count": 26,
   "id": "d15b0e97",
   "metadata": {
    "ExecuteTime": {
     "end_time": "2021-09-28T08:13:18.754936Z",
     "start_time": "2021-09-28T08:13:18.724Z"
    }
   },
   "outputs": [
    {
     "name": "stdout",
     "output_type": "stream",
     "text": [
      "[1] 100\n"
     ]
    },
    {
     "data": {
      "text/html": [
       "<ol class=list-inline>\n",
       "\t<li>3.77061685594771</li>\n",
       "\t<li>9.88643644112208</li>\n",
       "\t<li>0.930436724759933</li>\n",
       "</ol>\n"
      ],
      "text/latex": [
       "\\begin{enumerate*}\n",
       "\\item 3.77061685594771\n",
       "\\item 9.88643644112208\n",
       "\\item 0.930436724759933\n",
       "\\end{enumerate*}\n"
      ],
      "text/markdown": [
       "1. 3.77061685594771\n",
       "2. 9.88643644112208\n",
       "3. 0.930436724759933\n",
       "\n",
       "\n"
      ],
      "text/plain": [
       "[1] 3.7706169 9.8864364 0.9304367"
      ]
     },
     "metadata": {},
     "output_type": "display_data"
    }
   ],
   "source": [
    "# Set means for both distributions\n",
    "means <- c(5, 10)\n",
    "\n",
    "# let number of values generated be n\n",
    "n <- c(100, 900)\n",
    "\n",
    "# generate 1000 samples from distributions in one column\n",
    "x <- c(rpois(n[1], means[1]), rpois(n[2], means[2]))\n",
    "\n",
    "e_m(x, 2, 7, 0.5)"
   ]
  },
  {
   "cell_type": "markdown",
   "id": "cc963620",
   "metadata": {},
   "source": [
    "<h2 style=\"color:red\">THE ABOVE WORKS, CHECK BACK DERIVATION </h2>"
   ]
  },
  {
   "cell_type": "code",
   "execution_count": null,
   "id": "da307a6e",
   "metadata": {},
   "outputs": [],
   "source": []
  }
 ],
 "metadata": {
  "kernelspec": {
   "display_name": "R",
   "language": "R",
   "name": "ir"
  },
  "language_info": {
   "codemirror_mode": "r",
   "file_extension": ".r",
   "mimetype": "text/x-r-source",
   "name": "R",
   "pygments_lexer": "r",
   "version": "3.6.1"
  },
  "latex_envs": {
   "LaTeX_envs_menu_present": true,
   "autoclose": false,
   "autocomplete": true,
   "bibliofile": "biblio.bib",
   "cite_by": "apalike",
   "current_citInitial": 1,
   "eqLabelWithNumbers": true,
   "eqNumInitial": 1,
   "hotkeys": {
    "equation": "Ctrl-E",
    "itemize": "Ctrl-I"
   },
   "labels_anchors": false,
   "latex_user_defs": false,
   "report_style_numbering": false,
   "user_envs_cfg": false
  }
 },
 "nbformat": 4,
 "nbformat_minor": 5
}
