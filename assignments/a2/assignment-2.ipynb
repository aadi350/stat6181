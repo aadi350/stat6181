{
 "cells": [
  {
   "cell_type": "code",
   "execution_count": 2,
   "id": "df60db4e",
   "metadata": {},
   "outputs": [],
   "source": [
    "library(ggplot2)"
   ]
  },
  {
   "cell_type": "markdown",
   "id": "f55599ce",
   "metadata": {},
   "source": [
    "$$\n",
    " \\gamma_0 = \\sum_{i}^{n}\\frac{0.5f_{2, \\lambda_{0}}(x_i)}{(1-0.5)f_{1, \\mu_{0}}(x_i) + 0.5f_{2, \\lambda_{0}}(x_i)}\n",
    "$$"
   ]
  },
  {
   "cell_type": "code",
   "execution_count": 3,
   "id": "fc30670d",
   "metadata": {},
   "outputs": [
    {
     "data": {
      "text/html": [
       "13"
      ],
      "text/latex": [
       "13"
      ],
      "text/markdown": [
       "13"
      ],
      "text/plain": [
       "[1] 13"
      ]
     },
     "metadata": {},
     "output_type": "display_data"
    }
   ],
   "source": [
    "x = c(1, 2, 3, 8 ,12)\n",
    "\n",
    "sum(0.5 * x)"
   ]
  },
  {
   "cell_type": "code",
   "execution_count": 4,
   "id": "fc732873",
   "metadata": {},
   "outputs": [
    {
     "data": {
      "text/html": [
       "<ol class=list-inline>\n",
       "\t<li>0.270670566473225</li>\n",
       "\t<li>0.270670566473225</li>\n",
       "\t<li>0.180447044315484</li>\n",
       "\t<li>0.000859271639597541</li>\n",
       "\t<li>1.15726820147817e-06</li>\n",
       "</ol>\n"
      ],
      "text/latex": [
       "\\begin{enumerate*}\n",
       "\\item 0.270670566473225\n",
       "\\item 0.270670566473225\n",
       "\\item 0.180447044315484\n",
       "\\item 0.000859271639597541\n",
       "\\item 1.15726820147817e-06\n",
       "\\end{enumerate*}\n"
      ],
      "text/markdown": [
       "1. 0.270670566473225\n",
       "2. 0.270670566473225\n",
       "3. 0.180447044315484\n",
       "4. 0.000859271639597541\n",
       "5. 1.15726820147817e-06\n",
       "\n",
       "\n"
      ],
      "text/plain": [
       "[1] 2.706706e-01 2.706706e-01 1.804470e-01 8.592716e-04 1.157268e-06"
      ]
     },
     "metadata": {},
     "output_type": "display_data"
    }
   ],
   "source": [
    "lambda <- 2\n",
    "mu <- 8\n",
    "\n",
    "dpois(x, lambda, log = FALSE)"
   ]
  },
  {
   "cell_type": "code",
   "execution_count": 5,
   "id": "d5a59481",
   "metadata": {},
   "outputs": [
    {
     "data": {
      "text/html": [
       "<ol class=list-inline>\n",
       "\t<li>0.0026837010232201</li>\n",
       "\t<li>0.0107348040928804</li>\n",
       "\t<li>0.028626144247681</li>\n",
       "\t<li>0.139586531950597</li>\n",
       "\t<li>0.0481268042819567</li>\n",
       "</ol>\n"
      ],
      "text/latex": [
       "\\begin{enumerate*}\n",
       "\\item 0.0026837010232201\n",
       "\\item 0.0107348040928804\n",
       "\\item 0.028626144247681\n",
       "\\item 0.139586531950597\n",
       "\\item 0.0481268042819567\n",
       "\\end{enumerate*}\n"
      ],
      "text/markdown": [
       "1. 0.0026837010232201\n",
       "2. 0.0107348040928804\n",
       "3. 0.028626144247681\n",
       "4. 0.139586531950597\n",
       "5. 0.0481268042819567\n",
       "\n",
       "\n"
      ],
      "text/plain": [
       "[1] 0.002683701 0.010734804 0.028626144 0.139586532 0.048126804"
      ]
     },
     "metadata": {},
     "output_type": "display_data"
    }
   ],
   "source": [
    "dpois(x, mu, log=FALSE)"
   ]
  },
  {
   "cell_type": "code",
   "execution_count": 6,
   "id": "018a5b45",
   "metadata": {},
   "outputs": [],
   "source": [
    "gamma <- sum(0.5*dpois(x, lambda, log=FALSE )/((1-0.5)*dpois(x, mu, log=FALSE) + 0.5*dpois(x, lambda, log=FALSE)))"
   ]
  },
  {
   "cell_type": "code",
   "execution_count": 7,
   "id": "21fec5cb",
   "metadata": {},
   "outputs": [
    {
     "data": {
      "text/html": [
       "26"
      ],
      "text/latex": [
       "26"
      ],
      "text/markdown": [
       "26"
      ],
      "text/plain": [
       "[1] 26"
      ]
     },
     "metadata": {},
     "output_type": "display_data"
    }
   ],
   "source": [
    "sum((x*(1-gamma)/(1-gamma)))"
   ]
  },
  {
   "cell_type": "code",
   "execution_count": 8,
   "id": "7e570f5d",
   "metadata": {},
   "outputs": [
    {
     "data": {
      "text/html": [
       "9.21574642176799"
      ],
      "text/latex": [
       "9.21574642176799"
      ],
      "text/markdown": [
       "9.21574642176799"
      ],
      "text/plain": [
       "[1] 9.215746"
      ]
     },
     "metadata": {},
     "output_type": "display_data"
    }
   ],
   "source": [
    "sum(x/gamma)"
   ]
  },
  {
   "cell_type": "code",
   "execution_count": 9,
   "id": "19b0c848",
   "metadata": {},
   "outputs": [
    {
     "data": {
      "text/html": [
       "5"
      ],
      "text/latex": [
       "5"
      ],
      "text/markdown": [
       "5"
      ],
      "text/plain": [
       "[1] 5"
      ]
     },
     "metadata": {},
     "output_type": "display_data"
    }
   ],
   "source": [
    "length(x)"
   ]
  },
  {
   "cell_type": "code",
   "execution_count": 45,
   "id": "54db8267",
   "metadata": {},
   "outputs": [],
   "source": [
    "e_step <- function(x, mean_1, mean_2, theta) {\n",
    "    return(\n",
    "        (theta * dpois(x, mean_2, log=FALSE))/\n",
    "        ((1-theta)*dpois(x, mean_1, log=FALSE) + theta*dpois(x, mean_2, log=FALSE))\n",
    "    )\n",
    "}\n",
    "\n",
    "m_step <- function(x, gamma) {\n",
    "    mean_1 = sum(x*(1-gamma))/sum(1-gamma)\n",
    "    mean_2 = sum(x*gamma)/sum(gamma)\n",
    "\n",
    "    return(c(mean_1, mean_2))\n",
    "}"
   ]
  },
  {
   "cell_type": "code",
   "execution_count": 46,
   "id": "cf4cac36",
   "metadata": {},
   "outputs": [
    {
     "data": {
      "text/html": [
       "<ol class=list-inline>\n",
       "\t<li>1.96804542968633</li>\n",
       "\t<li>9.38506598786482</li>\n",
       "</ol>\n"
      ],
      "text/latex": [
       "\\begin{enumerate*}\n",
       "\\item 1.96804542968633\n",
       "\\item 9.38506598786482\n",
       "\\end{enumerate*}\n"
      ],
      "text/markdown": [
       "1. 1.96804542968633\n",
       "2. 9.38506598786482\n",
       "\n",
       "\n"
      ],
      "text/plain": [
       "[1] 1.968045 9.385066"
      ]
     },
     "metadata": {},
     "output_type": "display_data"
    }
   ],
   "source": [
    "gamma <- e_step(x, 2, 8, 0.5)\n",
    "m_step(x, gamma)"
   ]
  },
  {
   "cell_type": "code",
   "execution_count": 47,
   "id": "bdc58f93",
   "metadata": {},
   "outputs": [],
   "source": [
    "# Set means for both distributions\n",
    "means <- c(5, 10)\n",
    "\n",
    "# let number of values generated be n\n",
    "n <- c(100, 900)\n",
    "\n",
    "# generate 1000 samples from distributions in one column\n",
    "dist = c(rpois(n[1], means[1]), rpois(n[2], means[2]))"
   ]
  },
  {
   "cell_type": "code",
   "execution_count": 54,
   "id": "61ed72fa",
   "metadata": {},
   "outputs": [],
   "source": [
    "e_m <- function(x, mean_1_0, mean_2_0, theta_0, tol=1e-10, n=100) {\n",
    "    delta <- Inf\n",
    "    \n",
    "    means <- c(mean_1_0, mean_2_0)\n",
    "    theta <- theta_0\n",
    "    iter <- 1\n",
    "    \n",
    "    \n",
    "    while (delta > tol) {\n",
    "        print(cat(\"Theta: \", theta))\n",
    "        gamma_prev <- e_step(x, means[1], means[2], theta)\n",
    "        print(cat(\"Gamma: \", sum(gamma_prev)/1000))\n",
    "        new_means <- m_step(x, gamma_prev)\n",
    "        print(cat(\"Means: \", new_means))\n",
    "        \n",
    "        theta <- sum(gamma_prev)/length(x)\n",
    "        \n",
    "        delta <- abs(new_means[1]-means[1] + new_means[2]-means[2])\n",
    "        print(delta)\n",
    "        iter <- iter + 1\n",
    "\n",
    "        means <- new_means\n",
    "\n",
    "        if (iter >= n) {\n",
    "            return(new_means)\n",
    "        }\n",
    "        \n",
    "        if (is.na(delta)) {\n",
    "            return(\"ERROR: EXPLOSION\")\n",
    "        }\n",
    "        \n",
    "        \n",
    "        \n",
    "    }\n",
    "    return(new_means)\n",
    "    \n",
    "    \n",
    "    \n",
    "}"
   ]
  },
  {
   "cell_type": "code",
   "execution_count": 55,
   "id": "d15b0e97",
   "metadata": {},
   "outputs": [
    {
     "name": "stdout",
     "output_type": "stream",
     "text": [
      "Theta:  0.2NULL\n",
      "Gamma:  0.5245859NULL\n",
      "Means:  7.198682 11.5532NULL\n",
      "[1] 3.75188\n",
      "Theta:  0.5245859NULL\n",
      "Gamma:  0.5384746NULL\n",
      "Means:  7.480466 11.19937NULL\n",
      "[1] 0.07204653\n",
      "Theta:  0.5384746NULL\n",
      "Gamma:  0.5475212NULL\n",
      "Means:  7.612296 11.02897NULL\n",
      "[1] 0.03856301\n",
      "Theta:  0.5475212NULL\n",
      "Gamma:  0.5545236NULL\n",
      "Means:  7.680329 10.93117NULL\n",
      "[1] 0.02976658\n",
      "Theta:  0.5545236NULL\n",
      "Gamma:  0.5604727NULL\n",
      "Means:  7.715262 10.86927NULL\n",
      "[1] 0.02696713\n",
      "Theta:  0.5604727NULL\n",
      "Gamma:  0.5658188NULL\n",
      "Means:  7.731032 10.82737NULL\n",
      "[1] 0.02613207\n",
      "Theta:  0.5658188NULL\n",
      "Gamma:  0.5707992NULL\n",
      "Means:  7.734928 10.79743NULL\n",
      "[1] 0.02604958\n",
      "Theta:  0.5707992NULL\n",
      "Gamma:  0.5755504NULL\n",
      "Means:  7.731127 10.77495NULL\n",
      "[1] 0.0262792\n",
      "Theta:  0.5755504NULL\n",
      "Gamma:  0.5801563NULL\n",
      "Means:  7.722167 10.75727NULL\n",
      "[1] 0.02664111\n",
      "Theta:  0.5801563NULL\n",
      "Gamma:  0.5846706NULL\n",
      "Means:  7.709659 10.74272NULL\n",
      "[1] 0.02705697\n",
      "Theta:  0.5846706NULL\n",
      "Gamma:  0.5891283NULL\n",
      "Means:  7.694648 10.73024NULL\n",
      "[1] 0.02749196\n",
      "Theta:  0.5891283NULL\n",
      "Gamma:  0.593553NULL\n",
      "Means:  7.677828 10.71913NULL\n",
      "[1] 0.02793114\n",
      "Theta:  0.593553NULL\n",
      "Gamma:  0.5979605NULL\n",
      "Means:  7.659663 10.70892NULL\n",
      "[1] 0.02836896\n",
      "Theta:  0.5979605NULL\n",
      "Gamma:  0.6023616NULL\n",
      "Means:  7.640464 10.69932NULL\n",
      "[1] 0.02880432\n",
      "Theta:  0.6023616NULL\n",
      "Gamma:  0.6067637NULL\n",
      "Means:  7.620442 10.6901NULL\n",
      "[1] 0.02923813\n",
      "Theta:  0.6067637NULL\n",
      "Gamma:  0.6111716NULL\n",
      "Means:  7.599736 10.68114NULL\n",
      "[1] 0.02967208\n",
      "Theta:  0.6111716NULL\n",
      "Gamma:  0.6155888NULL\n",
      "Means:  7.57844 10.67232NULL\n",
      "[1] 0.03010808\n",
      "Theta:  0.6155888NULL\n",
      "Gamma:  0.6200174NULL\n",
      "Means:  7.556615 10.6636NULL\n",
      "[1] 0.03054793\n",
      "Theta:  0.6200174NULL\n",
      "Gamma:  0.6244588NULL\n",
      "Means:  7.534299 10.65492NULL\n",
      "[1] 0.03099322\n",
      "Theta:  0.6244588NULL\n",
      "Gamma:  0.6289137NULL\n",
      "Means:  7.511517 10.64626NULL\n",
      "[1] 0.03144532\n",
      "Theta:  0.6289137NULL\n",
      "Gamma:  0.6333828NULL\n",
      "Means:  7.488279 10.63759NULL\n",
      "[1] 0.03190533\n",
      "Theta:  0.6333828NULL\n",
      "Gamma:  0.6378661NULL\n",
      "Means:  7.464593 10.6289NULL\n",
      "[1] 0.03237417\n",
      "Theta:  0.6378661NULL\n",
      "Gamma:  0.6423635NULL\n",
      "Means:  7.440457 10.62019NULL\n",
      "[1] 0.03285257\n",
      "Theta:  0.6423635NULL\n",
      "Gamma:  0.6468749NULL\n",
      "Means:  7.41587 10.61143NULL\n",
      "[1] 0.03334113\n",
      "Theta:  0.6468749NULL\n",
      "Gamma:  0.6513999NULL\n",
      "Means:  7.390825 10.60264NULL\n",
      "[1] 0.03384031\n",
      "Theta:  0.6513999NULL\n",
      "Gamma:  0.6559381NULL\n",
      "Means:  7.365314 10.5938NULL\n",
      "[1] 0.03435048\n",
      "Theta:  0.6559381NULL\n",
      "Gamma:  0.6604889NULL\n",
      "Means:  7.339331 10.58491NULL\n",
      "[1] 0.03487193\n",
      "Theta:  0.6604889NULL\n",
      "Gamma:  0.6650518NULL\n",
      "Means:  7.312864 10.57597NULL\n",
      "[1] 0.03540487\n",
      "Theta:  0.6650518NULL\n",
      "Gamma:  0.6696262NULL\n",
      "Means:  7.285904 10.56698NULL\n",
      "[1] 0.03594947\n",
      "Theta:  0.6696262NULL\n",
      "Gamma:  0.6742112NULL\n",
      "Means:  7.258441 10.55794NULL\n",
      "[1] 0.03650584\n",
      "Theta:  0.6742112NULL\n",
      "Gamma:  0.6788062NULL\n",
      "Means:  7.230465 10.54884NULL\n",
      "[1] 0.03707401\n",
      "Theta:  0.6788062NULL\n",
      "Gamma:  0.6834104NULL\n",
      "Means:  7.201963 10.53969NULL\n",
      "[1] 0.037654\n",
      "Theta:  0.6834104NULL\n",
      "Gamma:  0.6880227NULL\n",
      "Means:  7.172926 10.53048NULL\n",
      "[1] 0.03824576\n",
      "Theta:  0.6880227NULL\n",
      "Gamma:  0.6926422NULL\n",
      "Means:  7.143342 10.52122NULL\n",
      "[1] 0.03884919\n",
      "Theta:  0.6926422NULL\n",
      "Gamma:  0.697268NULL\n",
      "Means:  7.113201 10.51189NULL\n",
      "[1] 0.03946413\n",
      "Theta:  0.697268NULL\n",
      "Gamma:  0.7018989NULL\n",
      "Means:  7.082492 10.50251NULL\n",
      "[1] 0.04009035\n",
      "Theta:  0.7018989NULL\n",
      "Gamma:  0.7065338NULL\n",
      "Means:  7.051204 10.49307NULL\n",
      "[1] 0.04072758\n",
      "Theta:  0.7065338NULL\n",
      "Gamma:  0.7111714NULL\n",
      "Means:  7.019326 10.48357NULL\n",
      "[1] 0.04137545\n",
      "Theta:  0.7111714NULL\n",
      "Gamma:  0.7158103NULL\n",
      "Means:  6.98685 10.47402NULL\n",
      "[1] 0.04203352\n",
      "Theta:  0.7158103NULL\n",
      "Gamma:  0.7204493NULL\n",
      "Means:  6.953765 10.4644NULL\n",
      "[1] 0.04270128\n",
      "Theta:  0.7204493NULL\n",
      "Gamma:  0.7250869NULL\n",
      "Means:  6.920062 10.45473NULL\n",
      "[1] 0.0433781\n",
      "Theta:  0.7250869NULL\n",
      "Gamma:  0.7297214NULL\n",
      "Means:  6.885732 10.44499NULL\n",
      "[1] 0.04406328\n",
      "Theta:  0.7297214NULL\n",
      "Gamma:  0.7343512NULL\n",
      "Means:  6.850768 10.4352NULL\n",
      "[1] 0.04475598\n",
      "Theta:  0.7343512NULL\n",
      "Gamma:  0.7389747NULL\n",
      "Means:  6.815163 10.42535NULL\n",
      "[1] 0.04545525\n",
      "Theta:  0.7389747NULL\n",
      "Gamma:  0.74359NULL\n",
      "Means:  6.778909 10.41544NULL\n",
      "[1] 0.04616004\n",
      "Theta:  0.74359NULL\n",
      "Gamma:  0.7481952NULL\n",
      "Means:  6.742002 10.40548NULL\n",
      "[1] 0.04686914\n",
      "Theta:  0.7481952NULL\n",
      "Gamma:  0.7527884NULL\n",
      "Means:  6.704438 10.39546NULL\n",
      "[1] 0.0475812\n",
      "Theta:  0.7527884NULL\n",
      "Gamma:  0.7573673NULL\n",
      "Means:  6.666213 10.3854NULL\n",
      "[1] 0.04829472\n",
      "Theta:  0.7573673NULL\n",
      "Gamma:  0.76193NULL\n",
      "Means:  6.627326 10.37527NULL\n",
      "[1] 0.04900805\n",
      "Theta:  0.76193NULL\n",
      "Gamma:  0.766474NULL\n",
      "Means:  6.587776 10.3651NULL\n",
      "[1] 0.04971939\n",
      "Theta:  0.766474NULL\n",
      "Gamma:  0.7709971NULL\n",
      "Means:  6.547566 10.35489NULL\n",
      "[1] 0.05042673\n",
      "Theta:  0.7709971NULL\n",
      "Gamma:  0.7754968NULL\n",
      "Means:  6.506698 10.34463NULL\n",
      "[1] 0.05112794\n",
      "Theta:  0.7754968NULL\n",
      "Gamma:  0.7799706NULL\n",
      "Means:  6.465179 10.33433NULL\n",
      "[1] 0.05182067\n",
      "Theta:  0.7799706NULL\n",
      "Gamma:  0.7844159NULL\n",
      "Means:  6.423015 10.32399NULL\n",
      "[1] 0.05250242\n",
      "Theta:  0.7844159NULL\n",
      "Gamma:  0.7888301NULL\n",
      "Means:  6.380216 10.31362NULL\n",
      "[1] 0.05317051\n",
      "Theta:  0.7888301NULL\n",
      "Gamma:  0.7932103NULL\n",
      "Means:  6.336796 10.30321NULL\n",
      "[1] 0.05382211\n",
      "Theta:  0.7932103NULL\n",
      "Gamma:  0.7975539NULL\n",
      "Means:  6.292767 10.29279NULL\n",
      "[1] 0.0544542\n",
      "Theta:  0.7975539NULL\n",
      "Gamma:  0.8018579NULL\n",
      "Means:  6.248148 10.28234NULL\n",
      "[1] 0.05506364\n",
      "Theta:  0.8018579NULL\n",
      "Gamma:  0.8061196NULL\n",
      "Means:  6.20296 10.27188NULL\n",
      "[1] 0.05564715\n",
      "Theta:  0.8061196NULL\n",
      "Gamma:  0.8103359NULL\n",
      "Means:  6.157226 10.26142NULL\n",
      "[1] 0.05620133\n",
      "Theta:  0.8103359NULL\n",
      "Gamma:  0.8145039NULL\n",
      "Means:  6.110971 10.25095NULL\n",
      "[1] 0.0567227\n",
      "Theta:  0.8145039NULL\n",
      "Gamma:  0.8186207NULL\n",
      "Means:  6.064226 10.24049NULL\n",
      "[1] 0.0572077\n",
      "Theta:  0.8186207NULL\n",
      "Gamma:  0.8226834NULL\n",
      "Means:  6.017023 10.23004NULL\n",
      "[1] 0.05765277\n",
      "Theta:  0.8226834NULL\n",
      "Gamma:  0.826689NULL\n",
      "Means:  5.969398 10.21961NULL\n",
      "[1] 0.05805432\n",
      "Theta:  0.826689NULL\n",
      "Gamma:  0.8306348NULL\n",
      "Means:  5.92139 10.20921NULL\n",
      "[1] 0.05840882\n",
      "Theta:  0.8306348NULL\n",
      "Gamma:  0.8345178NULL\n",
      "Means:  5.873041 10.19884NULL\n",
      "[1] 0.05871283\n",
      "Theta:  0.8345178NULL\n",
      "Gamma:  0.8383353NULL\n",
      "Means:  5.824396 10.18853NULL\n",
      "[1] 0.05896302\n",
      "Theta:  0.8383353NULL\n",
      "Gamma:  0.8420848NULL\n",
      "Means:  5.775502 10.17826NULL\n",
      "[1] 0.05915625\n",
      "Theta:  0.8420848NULL\n",
      "Gamma:  0.8457636NULL\n",
      "Means:  5.726411 10.16806NULL\n",
      "[1] 0.0592896\n",
      "Theta:  0.8457636NULL\n",
      "Gamma:  0.8493693NULL\n",
      "Means:  5.677175 10.15794NULL\n",
      "[1] 0.0593604\n",
      "Theta:  0.8493693NULL\n",
      "Gamma:  0.8528998NULL\n",
      "Means:  5.627848 10.1479NULL\n",
      "[1] 0.0593663\n",
      "Theta:  0.8528998NULL\n",
      "Gamma:  0.8563528NULL\n",
      "Means:  5.578489 10.13795NULL\n",
      "[1] 0.05930531\n",
      "Theta:  0.8563528NULL\n",
      "Gamma:  0.8597265NULL\n",
      "Means:  5.529156 10.12811NULL\n",
      "[1] 0.0591758\n",
      "Theta:  0.8597265NULL\n",
      "Gamma:  0.8630191NULL\n",
      "Means:  5.479909 10.11838NULL\n",
      "[1] 0.0589766\n",
      "Theta:  0.8630191NULL\n",
      "Gamma:  0.866229NULL\n",
      "Means:  5.430808 10.10878NULL\n",
      "[1] 0.05870694\n",
      "Theta:  0.866229NULL\n",
      "Gamma:  0.8693549NULL\n",
      "Means:  5.381914 10.0993NULL\n",
      "[1] 0.05836655\n",
      "Theta:  0.8693549NULL\n",
      "Gamma:  0.8723958NULL\n",
      "Means:  5.333289 10.08997NULL\n",
      "[1] 0.05795563\n",
      "Theta:  0.8723958NULL\n",
      "Gamma:  0.8753507NULL\n",
      "Means:  5.284994 10.08079NULL\n",
      "[1] 0.05747483\n",
      "Theta:  0.8753507NULL\n",
      "Gamma:  0.8782189NULL\n",
      "Means:  5.237089 10.07177NULL\n",
      "[1] 0.05692532\n",
      "Theta:  0.8782189NULL\n",
      "Gamma:  0.8810001NULL\n",
      "Means:  5.189633 10.06292NULL\n",
      "[1] 0.0563087\n",
      "Theta:  0.8810001NULL\n",
      "Gamma:  0.883694NULL\n",
      "Means:  5.142682 10.05424NULL\n",
      "[1] 0.05562702\n",
      "Theta:  0.883694NULL\n",
      "Gamma:  0.8863007NULL\n",
      "Means:  5.096294 10.04575NULL\n",
      "[1] 0.05488275\n",
      "Theta:  0.8863007NULL\n",
      "Gamma:  0.8888204NULL\n",
      "Means:  5.050521 10.03744NULL\n",
      "[1] 0.05407873\n",
      "Theta:  0.8888204NULL\n",
      "Gamma:  0.8912536NULL\n",
      "Means:  5.005413 10.02933NULL\n",
      "[1] 0.05321816\n",
      "Theta:  0.8912536NULL\n",
      "Gamma:  0.8936009NULL\n",
      "Means:  4.96102 10.02142NULL\n",
      "[1] 0.05230452\n",
      "Theta:  0.8936009NULL\n",
      "Gamma:  0.8958633NULL\n",
      "Means:  4.917386 10.01371NULL\n",
      "[1] 0.05134158\n",
      "Theta:  0.8958633NULL\n",
      "Gamma:  0.8980418NULL\n",
      "Means:  4.874552 10.00622NULL\n",
      "[1] 0.05033329\n",
      "Theta:  0.8980418NULL\n",
      "Gamma:  0.9001375NULL\n",
      "Means:  4.832557 9.998926NULL\n",
      "[1] 0.04928377\n",
      "Theta:  0.9001375NULL\n",
      "Gamma:  0.902152NULL\n",
      "Means:  4.791436 9.99185NULL\n",
      "[1] 0.04819728\n",
      "Theta:  0.902152NULL\n",
      "Gamma:  0.9040867NULL\n",
      "Means:  4.75122 9.984988NULL\n",
      "[1] 0.04707812\n",
      "Theta:  0.9040867NULL\n",
      "Gamma:  0.9059433NULL\n",
      "Means:  4.711937 9.978341NULL\n",
      "[1] 0.04593065\n",
      "Theta:  0.9059433NULL\n",
      "Gamma:  0.9077235NULL\n",
      "Means:  4.67361 9.971909NULL\n",
      "[1] 0.04475918\n",
      "Theta:  0.9077235NULL\n",
      "Gamma:  0.9094291NULL\n",
      "Means:  4.636259 9.965691NULL\n",
      "[1] 0.04356801\n",
      "Theta:  0.9094291NULL\n",
      "Gamma:  0.9110623NULL\n",
      "Means:  4.599902 9.959687NULL\n",
      "[1] 0.04236134\n",
      "Theta:  0.9110623NULL\n",
      "Gamma:  0.9126248NULL\n",
      "Means:  4.564551 9.953895NULL\n",
      "[1] 0.04114325\n",
      "Theta:  0.9126248NULL\n",
      "Gamma:  0.9141189NULL\n",
      "Means:  4.530216 9.948312NULL\n",
      "[1] 0.03991769\n",
      "Theta:  0.9141189NULL\n",
      "Gamma:  0.9155466NULL\n",
      "Means:  4.496903 9.942936NULL\n",
      "[1] 0.03868845\n",
      "Theta:  0.9155466NULL\n",
      "Gamma:  0.91691NULL\n",
      "Means:  4.464616 9.937764NULL\n",
      "[1] 0.03745914\n",
      "Theta:  0.91691NULL\n",
      "Gamma:  0.9182113NULL\n",
      "Means:  4.433355 9.932792NULL\n",
      "[1] 0.03623315\n"
     ]
    },
    {
     "data": {
      "text/html": [
       "<ol class=list-inline>\n",
       "\t<li>4.43335533400781</li>\n",
       "\t<li>9.93279189984907</li>\n",
       "</ol>\n"
      ],
      "text/latex": [
       "\\begin{enumerate*}\n",
       "\\item 4.43335533400781\n",
       "\\item 9.93279189984907\n",
       "\\end{enumerate*}\n"
      ],
      "text/markdown": [
       "1. 4.43335533400781\n",
       "2. 9.93279189984907\n",
       "\n",
       "\n"
      ],
      "text/plain": [
       "[1] 4.433355 9.932792"
      ]
     },
     "metadata": {},
     "output_type": "display_data"
    }
   ],
   "source": [
    "e_m(dist, means[1], means[2], 0.2)"
   ]
  },
  {
   "cell_type": "markdown",
   "id": "cc963620",
   "metadata": {},
   "source": [
    "<h2 style=\"color:red\">THE ABOVE WORKS, CHECK BACK DERIVATION </h2>"
   ]
  },
  {
   "cell_type": "code",
   "execution_count": null,
   "id": "da307a6e",
   "metadata": {},
   "outputs": [],
   "source": []
  }
 ],
 "metadata": {
  "kernelspec": {
   "display_name": "R",
   "language": "R",
   "name": "ir"
  },
  "language_info": {
   "codemirror_mode": "r",
   "file_extension": ".r",
   "mimetype": "text/x-r-source",
   "name": "R",
   "pygments_lexer": "r",
   "version": "3.6.1"
  }
 },
 "nbformat": 4,
 "nbformat_minor": 5
}
