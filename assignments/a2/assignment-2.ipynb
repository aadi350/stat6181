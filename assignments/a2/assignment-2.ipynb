{
 "cells": [
  {
   "cell_type": "markdown",
   "id": "f55599ce",
   "metadata": {},
   "source": [
    "# Question 1 \n",
    "Suppose that $X_{1}, X_{2},.....,X_{n}$ are i.i.d. Poisson random variables whose distribution is a mixture of Poisson random variables with parameters $\\lambda\\wedge\\mu$. We observe a Poisson random variable with mean $\\lambda$ with probability $\\theta$ and a Poisson variable with mean $\\mu$ with a probability $1-\\theta$."
   ]
  },
  {
   "cell_type": "markdown",
   "id": "942b9fd7",
   "metadata": {},
   "source": [
    "### a. Derive the EM Algorithm to estimate the parameters"
   ]
  },
  {
   "cell_type": "markdown",
   "id": "21627887",
   "metadata": {
    "ExecuteTime": {
     "end_time": "2021-09-29T12:58:16.873607Z",
     "start_time": "2021-09-29T12:58:16.866Z"
    }
   },
   "source": [
    "%%latex\n",
    "This problem requires derivation of the EM algorithm for a mixture model of two Poisson. Suppose:\n",
    "\\begin{equation*}\n",
    "    \\begin{gathered}\n",
    "        \\sum_i^{n} -\\gamma_i\\left[-\\gamma_i + \\frac{x_i}{\\lambda_2}\\right] = 0\\\\\n",
    "        \\therefore \\lambda_2 = \\frac{\\sum_i^{n}\\gamma_ix_i}{\\sum_i^{n}\\gamma_{i}}\n",
    "    \\end{gathered}\n",
    "\\end{equation*}\n",
    "\n",
    "Let $w$ be a Bernoulli random variable independent of $Y_{1}$ and $Y_2$ with probability of success $\\pi$. The random variable $X$ observed is therefore:\n",
    "\\begin{equation*}\n",
    "                    X = (1-W)Y_{1} + WY_{2}\n",
    "\\end{equation*}\n",
    "                \n",
    "Let the parameter vector $\\theta = (\\lambda_1, \\lambda_2, \\pi)$. The PDF of the mixture of random variable X is:\n",
    "\\begin{equation*}\n",
    " \\begin{gathered}\n",
    "   f(x) = (1-\\pi)f_1(x) + \\pi f_2(x)\\\\ -\\infty<x<\\infty\\\\\n",
    "   0\\leq\\pi\\leq1  \n",
    "\\end{gathered}\n",
    "\\end{equation*}\n",
    "\n",
    "\n",
    "The unobserved data are r.v. identifying the distribution memberships, for $i=1,..,n$ constitute a Bernoulli r.v.:\n",
    "\\begin{equation}\n",
    "  w_{i} =\n",
    "    \\begin{cases}\n",
    "      0 & \\text{if $x_i$ has PDF $f_{1}(x)$}\\\\\n",
    "      1 & \\text{if $x_i$ has PDF $f_{2}(x)$}\n",
    "    \\end{cases}       \n",
    "\\end{equation}\n",
    "\n",
    "The complete likelihood function is:\n",
    "\\begin{equation*}\n",
    "    \\mathcal{L}^{c}(\\theta|x,w) = \\prod_{w_i = 0}f_1(x_i)\\prod_{w_i=1}f_2(x_i)\n",
    "\\end{equation*}\n",
    "Hence the log- of the complete likelihood is:\n",
    "\\begin{equation*}\n",
    "    \\begin{split}\n",
    "        l^{c}(\\theta|x,w) &= \\sum_{i=1}^{n}\\left[(1-w_i)\\log{f_1(x_i)} + w_i\\log{f_2(x_i)}\\right]\n",
    "    \\end{split}\n",
    "\\end{equation*}\n",
    "\n",
    " For the \\textbf{E}-step, we need the conditional expectation of $w_i$ given $\\tilde{x}, \\theta_0$:\n",
    "                \\begin{equation*}                    E_{\\theta_0}\\left[w|\\theta_0,\\tilde{x}\\right] = P\\left[w_{i}=1|\\theta_0, \\tilde{x}\\right]\n",
    "                \\end{equation*}\n",
    "                \n",
    "In order to estimate this probability, Bayes' rule is used:\n",
    "\\begin{equation*}\n",
    "    \\gamma_i = \\frac{\\hat{\\pi}f_{2, \\theta_{0}}(x_i)}{(1-\\hat{\\pi})f_{1, \\theta_{0}}(x_i) + \\hat{\\pi}f_{2, \\theta_{0}}(x_i)}\n",
    "\\end{equation*}\n",
    "\n",
    "Replacing $w_i$ with $\\gamma_i$ in the log of the complete likelihood:\n",
    "\\begin{equation*}\n",
    "    Q(\\theta|\\theta_0, \\tilde{x}) = \\sum_{i=1}^{n}\\left[(1-\\gamma_i)\\log{f_1(x_i)} +\\gamma_i\\log{f_{2}(x_i)}\\right]\n",
    "\\end{equation*}\n",
    "\n",
    "Re-substituting $f(x) = \\frac{e^{\\lambda}\\lambda^{x}}{x!}$ into the above:\n",
    "\\begin{equation*}\n",
    "    \\begin{split}\n",
    "        Q(\\theta|\\theta_0, \\tilde{x}) &= \\sum_{i=1}^{n}\\left[(1-\\gamma_i)\\log{\\frac{e^{-\\lambda_1}\\lambda_1^{x_{i}}}{x!}} +\\gamma_i\\log{\\frac{e^{-\\lambda_2}\\lambda_2^{x_{i}}}{x!}}\\right]\\\\\n",
    "        &= \\sum_{i=1}^{n}(1-\\gamma_i)\\left[-\\lambda_1 + x_i\\log{\\lambda_1} - \\log{x_i!}\\right] + \\gamma_i\\left[-\\lambda_2 + x_i\\log{\\lambda_2} - \\log{x_i!}\\right]\\\\\n",
    "        &= \\left[-\\lambda_i + x_{i}\\log{\\lambda_1}-\\log{x_i!}\\right] - \\lambda_{i}\\left[-\\lambda_1 + x_i\\log{\\lambda_1}-\\log{x_i!}\\right] + \\gamma_i\\left[-\\lambda_2 + x_i\\log{\\lambda_2}-\\log{x_i!}\\right]\n",
    "    \\end{split}\n",
    "\\end{equation*}\n",
    "\n",
    "From the above, differentiate with respect to $\\lambda_i$ and set to zero:\n",
    "\\begin{equation*}\n",
    "    \\begin{split}\n",
    "        \\frac{\\delta Q}{\\delta\\lambda_1} &= \\sum_{i=1}^{n}\\left[-1 + \\frac{x_{i}}{\\lambda_1} + \\gamma_{i}\\left(1 - \\frac{x_i}{\\lambda_1}\\right)\\right] = 0\\\\\n",
    "        \\frac{\\delta Q}{\\delta\\lambda_2} &= \\sum_{i=1}^{n}\\gamma_i\\left[-1 + \\frac{x_{i}}{\\lambda_2}\\right] = 0\n",
    "    \\end{split}\n",
    "\\end{equation*} \n",
    "\n",
    "Solving the above results in the following maximization equations, solving for $\\lambda_1$:\n",
    "\\begin{equation*}\n",
    "    \\begin{gathered}\n",
    "        \\sum_{i=1}^{n}\\left[-1 + \\frac{x_i}{\\lambda_1} + \\gamma_i\\left(1-\\frac{x_i}{\\lambda_1}\\right)\\right] = 0\\\\\n",
    "        \\Rightarrow \\sum_{i=1}^{n}\\left[\\frac{1}{\\lambda_1}\\left(x_i - x_i\\gamma_i\\right) +(\\gamma_i-1)\\right]  = 0\\\\ \\frac{1}{\\lambda_i}\\sum_{i}^{n}x_i(1-\\gamma_i) = \\sum_{i=1}^{n}(1-x_i)\\\\\n",
    "        \\therefore \\lambda_1 = \\frac{\\sum_{i}^{n}x_i(1-\\gamma_i)}{\\sum_{i}^{n}(1-\\gamma_i)}\n",
    "    \\end{gathered}\n",
    "\\end{equation*}\n",
    "\n",
    "Similarly, solving for $\\lambda_2$:\n",
    "\\begin{equation*}\n",
    "    \\begin{gathered}\n",
    "        \\sum_i^{n} -\\gamma_i\\left[-\\gamma_i + \\frac{x_i}{\\lambda_2}\\right] = 0\\\\\n",
    "        \\therefore \\lambda_2 = \\frac{\\sum_i^{n}\\gamma_ix_i}{\\sum_i^{n}\\gamma_{i}}\n",
    "    \\end{gathered}\n",
    "\\end{equation*}"
   ]
  },
  {
   "cell_type": "markdown",
   "id": "aaf4f4e5",
   "metadata": {},
   "source": [
    "### b. Suppose the following data are observed $1, 2, 3, 8$ and $12$ perform one iteration (BY HAND!!) of the EM algorithm to estimate the parameters. You can use an ordinary calculator OR the calculator facilities in R [10]"
   ]
  },
  {
   "cell_type": "markdown",
   "id": "297b3a7a",
   "metadata": {
    "ExecuteTime": {
     "end_time": "2021-09-29T13:03:11.782616Z",
     "start_time": "2021-09-29T13:03:11.763Z"
    }
   },
   "source": [
    "%%latex\n",
    "\n",
    "Using the above derived equations, the following table lists the results of the E-M algorithm for a single iteration, choosing $\\theta = 0.5$, $\\lambda=2$ and $\\mu=8$ as the starting values.\n",
    "Firstly solving the expectation step:\n",
    "\\begin{equation*}\n",
    "    \\gamma_i = \\frac{\\hat{\\pi}f_{2, \\lambda_{0}}(x_i)}{(1-\\hat{\\pi})f_{1, \\mu_{0}}(x_i) + \\hat{\\pi}f_{2, \\lambda_{0}}(x_i)}\n",
    "\\end{equation*}\n",
    "Setting $\\theta = 0.5$ and summing across all values of $x$:\n",
    "\\begin{equation*}\n",
    "    \\gamma_0 = \\sum_{i}^{n}\\frac{0.5f_{2, \\lambda_{0}}(x_i)}{(1-0.5)f_{1, \\mu_{0}}(x_i) + 0.5f_{2, \\lambda_{0}}(x_i)} = 2.821\n",
    "\\end{equation*}\n",
    "The new value for $\\hat{\\theta}$ is now $\\frac{\\gamma_{0}}{n} = \\frac{2.82}{5} = 0.564$ \n",
    "Performing the maximization step:\n",
    "\n",
    "\\begin{equation*}\n",
    "    \\begin{gathered}\n",
    "        \\lambda_1 = \\frac{\\sum_{i}^{n}x_i(1-\\gamma_i)}{\\sum_{i}^{n}(1-\\gamma_i)} = 1.968\\\\\n",
    "        \\mu_1 =  \\frac{\\sum_i^{n}\\gamma_ix_i}{\\sum_i^{n}\\gamma_{i}} = 9.385\n",
    "    \\end{gathered}\n",
    "\\end{equation*}"
   ]
  },
  {
   "cell_type": "markdown",
   "id": "39fb6e7e",
   "metadata": {},
   "source": [
    "### c. Write R code to perform the EM Algorithm and include in the R code an appropriate stopping tolerance level."
   ]
  },
  {
   "cell_type": "code",
   "execution_count": 17,
   "id": "54db8267",
   "metadata": {
    "ExecuteTime": {
     "end_time": "2021-09-28T08:03:48.498145Z",
     "start_time": "2021-09-28T08:03:48.490Z"
    }
   },
   "outputs": [],
   "source": [
    "e_step <- function(x, mean_1, mean_2, pi) {\n",
    "    return(\n",
    "        (pi * dpois(x, mean_2, log=FALSE))/\n",
    "        ((1-pi)*dpois(x, mean_1, log=FALSE) + pi*dpois(x, mean_2, log=FALSE))\n",
    "    )\n",
    "}\n",
    "\n",
    "m_step <- function(x, gamma) {\n",
    "    mean_1 = sum(x*(1-gamma))/sum(1-gamma)\n",
    "    mean_2 = sum(x*gamma)/sum(gamma)\n",
    "\n",
    "    return(c(mean_1, mean_2))\n",
    "}"
   ]
  },
  {
   "cell_type": "code",
   "execution_count": 25,
   "id": "61ed72fa",
   "metadata": {
    "ExecuteTime": {
     "end_time": "2021-09-28T08:13:17.959689Z",
     "start_time": "2021-09-28T08:13:17.948Z"
    }
   },
   "outputs": [],
   "source": [
    "e_step <- function(x, mean_1, mean_2, pi) {\n",
    "    return(\n",
    "        (pi * dpois(x, mean_2, log=FALSE))/\n",
    "        ((1-pi)*dpois(x, mean_1, log=FALSE) + pi*dpois(x, mean_2, log=FALSE))\n",
    "    )\n",
    "}\n",
    "\n",
    "m_step <- function(x, gamma) {\n",
    "    mean_1 = sum(x*(1-gamma))/sum(1-gamma)\n",
    "    mean_2 = sum(x*gamma)/sum(gamma)\n",
    "\n",
    "    return(c(mean_1, mean_2))\n",
    "}\n",
    "\n",
    "e_m <- function(x, mean_1_0, mean_2_0, pi_0, tol=1e-10, max_iter=1000) {\n",
    "    # specifies change of means at every iteration\n",
    "    delta <- Inf\n",
    "    # wrap both means into vector\n",
    "    means <- c(mean_1_0, mean_2_0)\n",
    "    pi <- pi_0\n",
    "    iter <- 1\n",
    "    \n",
    "    \n",
    "    while (delta > tol) {\n",
    "        # update new gamma values in expectation step\n",
    "        gamma_prev <- e_step(x, means[1], means[2], pi)\n",
    "        # use updated gamma to maximize both means in  maximization step\n",
    "        new_means <- m_step(x, gamma_prev)\n",
    "        means <- new_means\n",
    "        # update pi (proportion) \n",
    "        pi <- sum(gamma_prev)/length(x)\n",
    "        \n",
    "        # calculate change in old and new estimates \n",
    "        delta <- abs(new_means[1]-means[1] + new_means[2]-means[2])\n",
    "        iter <- iter + 1\n",
    "        \n",
    "        \n",
    "        # if gradients explode, return error\n",
    "        if (is.na(delta)) {\n",
    "            return(\"ERROR: EXPLOSION\")\n",
    "        }\n",
    "        \n",
    "        # if more than max_iter or change is below tolerance, stop and return\n",
    "        if (iter >= max_iter | delta < tol) {\n",
    "            print(i)\n",
    "             return(c(new_means, pi))  \n",
    "        }\n",
    " \n",
    "                \n",
    "    }\n",
    "    return(c(new_means, pi))  \n",
    "}"
   ]
  },
  {
   "cell_type": "code",
   "execution_count": null,
   "id": "c7c2a76a",
   "metadata": {},
   "outputs": [],
   "source": [
    "x = c(1, 2, 3, 8 ,12)\n",
    "\n",
    "sum(0.5 * x)\n",
    "\n",
    "gamma <- e_step(x, 2, 8, 0.5)\n",
    "m_step(x, gamma)"
   ]
  },
  {
   "cell_type": "markdown",
   "id": "e297e67d",
   "metadata": {},
   "source": [
    "### d. Generate 100 values from a Poisson distribution with mean 5 and 900 values from a Poisson distribution with mean 10. Amalgamate those 1000 values into a single column. Then, run the R code you constructed to see how well your algorithm is able to estimate the parameters."
   ]
  },
  {
   "cell_type": "code",
   "execution_count": 26,
   "id": "d15b0e97",
   "metadata": {
    "ExecuteTime": {
     "end_time": "2021-09-28T08:13:18.754936Z",
     "start_time": "2021-09-28T08:13:18.724Z"
    }
   },
   "outputs": [
    {
     "name": "stdout",
     "output_type": "stream",
     "text": [
      "[1] 100\n"
     ]
    },
    {
     "data": {
      "text/html": [
       "<ol class=list-inline>\n",
       "\t<li>3.77061685594771</li>\n",
       "\t<li>9.88643644112208</li>\n",
       "\t<li>0.930436724759933</li>\n",
       "</ol>\n"
      ],
      "text/latex": [
       "\\begin{enumerate*}\n",
       "\\item 3.77061685594771\n",
       "\\item 9.88643644112208\n",
       "\\item 0.930436724759933\n",
       "\\end{enumerate*}\n"
      ],
      "text/markdown": [
       "1. 3.77061685594771\n",
       "2. 9.88643644112208\n",
       "3. 0.930436724759933\n",
       "\n",
       "\n"
      ],
      "text/plain": [
       "[1] 3.7706169 9.8864364 0.9304367"
      ]
     },
     "metadata": {},
     "output_type": "display_data"
    }
   ],
   "source": [
    "# Set means for both distributions\n",
    "means <- c(5, 10)\n",
    "\n",
    "# let number of values generated be n\n",
    "n <- c(100, 900)\n",
    "\n",
    "# generate 1000 samples from distributions in one column\n",
    "x <- c(rpois(n[1], means[1]), rpois(n[2], means[2]))\n",
    "\n",
    "e_m(x, 2, 7, 0.5)"
   ]
  },
  {
   "cell_type": "markdown",
   "id": "605162ad",
   "metadata": {},
   "source": [
    "# Question II"
   ]
  },
  {
   "cell_type": "markdown",
   "id": "e3d2635a",
   "metadata": {},
   "source": [
    "%%latex\n",
    "Show that the function illustrated in Table 1 represents the joint probability mass function of the two discrete random variables X and Y? Justify your answer [2] "
   ]
  },
  {
   "cell_type": "markdown",
   "id": "5fa7da7f",
   "metadata": {
    "ExecuteTime": {
     "end_time": "2021-09-29T13:40:24.173496Z",
     "start_time": "2021-09-29T13:40:24.167Z"
    }
   },
   "source": [
    "<table>\n",
    "    <tr>\n",
    "        <td rowspan=\"2\">y</td>\n",
    "        <td><b>1</b></td>\n",
    "        <td>$\\frac{1}{20}$</td>\n",
    "        <td>$\\frac{2}{20}$</td>\n",
    "        <td>$\\frac{1}{20}$</td>        \n",
    "    </tr>\n",
    "    <tr>\n",
    "        <td><b>2</b></td>\n",
    "        <td>$\\frac{4}{20}$</td>\n",
    "        <td>$\\frac{7}{20}$</td>\n",
    "        <td>$\\frac{5}{20}$</td>    \n",
    "    </tr>\n",
    "</table>\n",
    "\\begin{tabular}{|c|c|c|c|c|}\n",
    "\\hline\n",
    " f(x,y)  &  & \\multicolumn{3}{|c|}x\\\\\n",
    " \\hline\n",
    "  & & \\textbf{1} & \\textbf{2} & \\textbf{3}\\\\\n",
    " \\hline\n",
    " \\multirow{2}{1em}y & \\textbf{1} & 1/20 & 2/20 & 1/20\\\\\n",
    "  & \\textbf{2} & 4/20 & 7/20 & 5/20\\\\\n",
    " \\hline\n",
    "\\end{tabular}"
   ]
  },
  {
   "cell_type": "markdown",
   "id": "5f680632",
   "metadata": {},
   "source": [
    "%%latex              \n",
    "In order to show that the above represents a joint PMF, the individual probabilities must sum to unity. From the above:\n",
    "\\begin{equation*}\n",
    "\\frac{1}{20}+\\frac{2}{20}+\\frac{1}{20}+\\frac{4}{20}+\\frac{7}{20}+\\frac{5}{20}=\\frac{20}{20}=1\n",
    "\\end{equation*}\n",
    "\n",
    "\n",
    "Find $E(XY)$ by hand. Leave your answer in exact form  \n",
    "\\vspace{5mm}\n",
    "Let $g(X,Y)=XY$ be a function of of the joint PMF. In order to find the expectation:\n",
    "\\begin{equation*}\n",
    "\\begin{split}\n",
    "    E(XY) = E[g(X,Y)] &= \\sum_{x}\\sum_{y}g(x,y)p(x,y)\\\\\n",
    "    \\Rightarrow E[XY] &= \\sum_7\\sum_y xy\\cdot p(x,y)\\\\\n",
    "    &= (1)(1)\\frac{1}{20}+(1)(2)\\frac{4}{20}+(2)(1)\\frac{2}{20}+(2)(2)\\frac{7}{20}+(3)(1)\\frac{1}{20}+(3)(2)\\frac{5}{20}\\\\\n",
    "    &= \\frac{1}{20}+\\frac{8}{20}+\\frac{4}{20}+\\frac{28}{20}+\\frac{3}{20}+\\frac{30}{20}\\\\\n",
    "    &= \\frac{74}{20}\n",
    "    \\end{split}\n",
    "\\end{equation*}"
   ]
  },
  {
   "cell_type": "markdown",
   "id": "550fdd85",
   "metadata": {},
   "source": [
    "## TO REFORMAT"
   ]
  },
  {
   "cell_type": "code",
   "execution_count": 4,
   "id": "fc732873",
   "metadata": {
    "ExecuteTime": {
     "end_time": "2021-09-28T07:50:50.028594Z",
     "start_time": "2021-09-28T07:50:48.471Z"
    }
   },
   "outputs": [
    {
     "data": {
      "text/html": [
       "<ol class=list-inline>\n",
       "\t<li>0.270670566473225</li>\n",
       "\t<li>0.270670566473225</li>\n",
       "\t<li>0.180447044315484</li>\n",
       "\t<li>0.000859271639597541</li>\n",
       "\t<li>1.15726820147817e-06</li>\n",
       "</ol>\n"
      ],
      "text/latex": [
       "\\begin{enumerate*}\n",
       "\\item 0.270670566473225\n",
       "\\item 0.270670566473225\n",
       "\\item 0.180447044315484\n",
       "\\item 0.000859271639597541\n",
       "\\item 1.15726820147817e-06\n",
       "\\end{enumerate*}\n"
      ],
      "text/markdown": [
       "1. 0.270670566473225\n",
       "2. 0.270670566473225\n",
       "3. 0.180447044315484\n",
       "4. 0.000859271639597541\n",
       "5. 1.15726820147817e-06\n",
       "\n",
       "\n"
      ],
      "text/plain": [
       "[1] 2.706706e-01 2.706706e-01 1.804470e-01 8.592716e-04 1.157268e-06"
      ]
     },
     "metadata": {},
     "output_type": "display_data"
    }
   ],
   "source": [
    "lambda <- 2\n",
    "mu <- 8\n",
    "\n",
    "dpois(x, lambda, log = FALSE)"
   ]
  },
  {
   "cell_type": "code",
   "execution_count": 5,
   "id": "d5a59481",
   "metadata": {
    "ExecuteTime": {
     "end_time": "2021-09-28T07:50:50.036208Z",
     "start_time": "2021-09-28T07:50:48.473Z"
    }
   },
   "outputs": [
    {
     "data": {
      "text/html": [
       "<ol class=list-inline>\n",
       "\t<li>0.0026837010232201</li>\n",
       "\t<li>0.0107348040928804</li>\n",
       "\t<li>0.028626144247681</li>\n",
       "\t<li>0.139586531950597</li>\n",
       "\t<li>0.0481268042819567</li>\n",
       "</ol>\n"
      ],
      "text/latex": [
       "\\begin{enumerate*}\n",
       "\\item 0.0026837010232201\n",
       "\\item 0.0107348040928804\n",
       "\\item 0.028626144247681\n",
       "\\item 0.139586531950597\n",
       "\\item 0.0481268042819567\n",
       "\\end{enumerate*}\n"
      ],
      "text/markdown": [
       "1. 0.0026837010232201\n",
       "2. 0.0107348040928804\n",
       "3. 0.028626144247681\n",
       "4. 0.139586531950597\n",
       "5. 0.0481268042819567\n",
       "\n",
       "\n"
      ],
      "text/plain": [
       "[1] 0.002683701 0.010734804 0.028626144 0.139586532 0.048126804"
      ]
     },
     "metadata": {},
     "output_type": "display_data"
    }
   ],
   "source": [
    "dpois(x, mu, log=FALSE)"
   ]
  },
  {
   "cell_type": "code",
   "execution_count": 6,
   "id": "018a5b45",
   "metadata": {
    "ExecuteTime": {
     "end_time": "2021-09-28T07:50:50.042074Z",
     "start_time": "2021-09-28T07:50:48.474Z"
    }
   },
   "outputs": [],
   "source": [
    "gamma <- sum(0.5*dpois(x, lambda, log=FALSE )/((1-0.5)*dpois(x, mu, log=FALSE) + 0.5*dpois(x, lambda, log=FALSE)))"
   ]
  },
  {
   "cell_type": "code",
   "execution_count": 15,
   "id": "21fec5cb",
   "metadata": {
    "ExecuteTime": {
     "end_time": "2021-09-28T07:51:25.685893Z",
     "start_time": "2021-09-28T07:51:25.677Z"
    }
   },
   "outputs": [
    {
     "data": {
      "text/html": [
       "1.96804542968633"
      ],
      "text/latex": [
       "1.96804542968633"
      ],
      "text/markdown": [
       "1.96804542968633"
      ],
      "text/plain": [
       "[1] 1.968045"
      ]
     },
     "metadata": {},
     "output_type": "display_data"
    }
   ],
   "source": [
    "sum(x*(1-gamma))/sum(1-gamma)"
   ]
  },
  {
   "cell_type": "code",
   "execution_count": 16,
   "id": "7e570f5d",
   "metadata": {
    "ExecuteTime": {
     "end_time": "2021-09-28T07:51:26.827976Z",
     "start_time": "2021-09-28T07:51:26.819Z"
    }
   },
   "outputs": [
    {
     "data": {
      "text/html": [
       "9.38506598786482"
      ],
      "text/latex": [
       "9.38506598786482"
      ],
      "text/markdown": [
       "9.38506598786482"
      ],
      "text/plain": [
       "[1] 9.385066"
      ]
     },
     "metadata": {},
     "output_type": "display_data"
    }
   ],
   "source": [
    "sum(x*gamma)/sum(gamma)"
   ]
  },
  {
   "cell_type": "code",
   "execution_count": 9,
   "id": "19b0c848",
   "metadata": {
    "ExecuteTime": {
     "end_time": "2021-09-28T07:50:50.064827Z",
     "start_time": "2021-09-28T07:50:48.478Z"
    }
   },
   "outputs": [
    {
     "data": {
      "text/html": [
       "5"
      ],
      "text/latex": [
       "5"
      ],
      "text/markdown": [
       "5"
      ],
      "text/plain": [
       "[1] 5"
      ]
     },
     "metadata": {},
     "output_type": "display_data"
    }
   ],
   "source": [
    "length(x)"
   ]
  }
 ],
 "metadata": {
  "kernelspec": {
   "display_name": "R",
   "language": "R",
   "name": "ir"
  },
  "language_info": {
   "codemirror_mode": "r",
   "file_extension": ".r",
   "mimetype": "text/x-r-source",
   "name": "R",
   "pygments_lexer": "r",
   "version": "3.6.1"
  },
  "latex_envs": {
   "LaTeX_envs_menu_present": true,
   "autoclose": false,
   "autocomplete": true,
   "bibliofile": "biblio.bib",
   "cite_by": "apalike",
   "current_citInitial": 1,
   "eqLabelWithNumbers": true,
   "eqNumInitial": 1,
   "hotkeys": {
    "equation": "Ctrl-E",
    "itemize": "Ctrl-I"
   },
   "labels_anchors": false,
   "latex_user_defs": false,
   "report_style_numbering": false,
   "user_envs_cfg": false
  }
 },
 "nbformat": 4,
 "nbformat_minor": 5
}
