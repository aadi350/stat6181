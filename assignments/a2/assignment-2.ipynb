{
 "cells": [
  {
   "cell_type": "markdown",
   "id": "f55599ce",
   "metadata": {},
   "source": [
    "# Question 1 \n",
    "Suppose that $X_{1}, X_{2},.....,X_{n}$ are i.i.d. Poisson random variables whose distribution is a mixture of Poisson random variables with parameters $\\lambda\\wedge\\mu$. We observe a Poisson random variable with mean $\\lambda$ with probability $\\theta$ and a Poisson variable with mean $\\mu$ with a probability $1-\\theta$."
   ]
  },
  {
   "cell_type": "markdown",
   "id": "942b9fd7",
   "metadata": {},
   "source": [
    "### a. Derive the EM Algorithm to estimate the parameters"
   ]
  },
  {
   "cell_type": "markdown",
   "id": "21627887",
   "metadata": {
    "ExecuteTime": {
     "end_time": "2021-09-29T12:58:16.873607Z",
     "start_time": "2021-09-29T12:58:16.866Z"
    }
   },
   "source": [
    "%%latex\n",
    "This problem requires derivation of the EM algorithm for a mixture model of two Poisson. Suppose:\n",
    "\\begin{equation*}\n",
    "    \\begin{gathered}\n",
    "        \\sum_i^{n} -\\gamma_i\\left[-\\gamma_i + \\frac{x_i}{\\lambda_2}\\right] = 0\\\\\n",
    "        \\therefore \\lambda_2 = \\frac{\\sum_i^{n}\\gamma_ix_i}{\\sum_i^{n}\\gamma_{i}}\n",
    "    \\end{gathered}\n",
    "\\end{equation*}\n",
    "\n",
    "Let $w$ be a Bernoulli random variable independent of $Y_{1}$ and $Y_2$ with probability of success $\\pi$. The random variable $X$ observed is therefore:\n",
    "\\begin{equation*}\n",
    "                    X = (1-W)Y_{1} + WY_{2}\n",
    "\\end{equation*}\n",
    "                \n",
    "Let the parameter vector $\\theta = (\\lambda_1, \\lambda_2, \\pi)$. The PDF of the mixture of random variable X is:\n",
    "\\begin{equation*}\n",
    " \\begin{gathered}\n",
    "   f(x) = (1-\\pi)f_1(x) + \\pi f_2(x)\\\\ -\\infty<x<\\infty\\\\\n",
    "   0\\leq\\pi\\leq1  \n",
    "\\end{gathered}\n",
    "\\end{equation*}\n",
    "\n",
    "\n",
    "The unobserved data are r.v. identifying the distribution memberships, for $i=1,..,n$ constitute a Bernoulli r.v.:\n",
    "\\begin{equation}\n",
    "  w_{i} =\n",
    "    \\begin{cases}\n",
    "      0 & \\text{if $x_i$ has PDF $f_{1}(x)$}\\\\\n",
    "      1 & \\text{if $x_i$ has PDF $f_{2}(x)$}\n",
    "    \\end{cases}       \n",
    "\\end{equation}\n",
    "\n",
    "The complete likelihood function is:\n",
    "\\begin{equation*}\n",
    "    \\mathcal{L}^{c}(\\theta|x,w) = \\prod_{w_i = 0}f_1(x_i)\\prod_{w_i=1}f_2(x_i)\n",
    "\\end{equation*}\n",
    "Hence the log- of the complete likelihood is:\n",
    "\\begin{equation*}\n",
    "    \\begin{split}\n",
    "        l^{c}(\\theta|x,w) &= \\sum_{i=1}^{n}\\left[(1-w_i)\\log{f_1(x_i)} + w_i\\log{f_2(x_i)}\\right]\n",
    "    \\end{split}\n",
    "\\end{equation*}\n",
    "\n",
    " For the \\textbf{E}-step, we need the conditional expectation of $w_i$ given $\\tilde{x}, \\theta_0$:\n",
    "                \\begin{equation*}                    E_{\\theta_0}\\left[w|\\theta_0,\\tilde{x}\\right] = P\\left[w_{i}=1|\\theta_0, \\tilde{x}\\right]\n",
    "                \\end{equation*}\n",
    "                \n",
    "In order to estimate this probability, Bayes' rule is used:\n",
    "\\begin{equation*}\n",
    "    \\gamma_i = \\frac{\\hat{\\pi}f_{2, \\theta_{0}}(x_i)}{(1-\\hat{\\pi})f_{1, \\theta_{0}}(x_i) + \\hat{\\pi}f_{2, \\theta_{0}}(x_i)}\n",
    "\\end{equation*}\n",
    "\n",
    "Replacing $w_i$ with $\\gamma_i$ in the log of the complete likelihood:\n",
    "\\begin{equation*}\n",
    "    Q(\\theta|\\theta_0, \\tilde{x}) = \\sum_{i=1}^{n}\\left[(1-\\gamma_i)\\log{f_1(x_i)} +\\gamma_i\\log{f_{2}(x_i)}\\right]\n",
    "\\end{equation*}\n",
    "\n",
    "Re-substituting $f(x) = \\frac{e^{\\lambda}\\lambda^{x}}{x!}$ into the above:\n",
    "\\begin{equation*}\n",
    "    \\begin{split}\n",
    "        Q(\\theta|\\theta_0, \\tilde{x}) &= \\sum_{i=1}^{n}\\left[(1-\\gamma_i)\\log{\\frac{e^{-\\lambda_1}\\lambda_1^{x_{i}}}{x!}} +\\gamma_i\\log{\\frac{e^{-\\lambda_2}\\lambda_2^{x_{i}}}{x!}}\\right]\\\\\n",
    "        &= \\sum_{i=1}^{n}(1-\\gamma_i)\\left[-\\lambda_1 + x_i\\log{\\lambda_1} - \\log{x_i!}\\right] + \\gamma_i\\left[-\\lambda_2 + x_i\\log{\\lambda_2} - \\log{x_i!}\\right]\\\\\n",
    "        &= \\left[-\\lambda_i + x_{i}\\log{\\lambda_1}-\\log{x_i!}\\right] - \\lambda_{i}\\left[-\\lambda_1 + x_i\\log{\\lambda_1}-\\log{x_i!}\\right] + \\gamma_i\\left[-\\lambda_2 + x_i\\log{\\lambda_2}-\\log{x_i!}\\right]\n",
    "    \\end{split}\n",
    "\\end{equation*}\n",
    "\n",
    "From the above, differentiate with respect to $\\lambda_i$ and set to zero:\n",
    "\\begin{equation*}\n",
    "    \\begin{split}\n",
    "        \\frac{\\delta Q}{\\delta\\lambda_1} &= \\sum_{i=1}^{n}\\left[-1 + \\frac{x_{i}}{\\lambda_1} + \\gamma_{i}\\left(1 - \\frac{x_i}{\\lambda_1}\\right)\\right] = 0\\\\\n",
    "        \\frac{\\delta Q}{\\delta\\lambda_2} &= \\sum_{i=1}^{n}\\gamma_i\\left[-1 + \\frac{x_{i}}{\\lambda_2}\\right] = 0\n",
    "    \\end{split}\n",
    "\\end{equation*} \n",
    "\n",
    "Solving the above results in the following maximization equations, solving for $\\lambda_1$:\n",
    "\\begin{equation*}\n",
    "    \\begin{gathered}\n",
    "        \\sum_{i=1}^{n}\\left[-1 + \\frac{x_i}{\\lambda_1} + \\gamma_i\\left(1-\\frac{x_i}{\\lambda_1}\\right)\\right] = 0\\\\\n",
    "        \\Rightarrow \\sum_{i=1}^{n}\\left[\\frac{1}{\\lambda_1}\\left(x_i - x_i\\gamma_i\\right) +(\\gamma_i-1)\\right]  = 0\\\\ \\frac{1}{\\lambda_i}\\sum_{i}^{n}x_i(1-\\gamma_i) = \\sum_{i=1}^{n}(1-x_i)\\\\\n",
    "        \\therefore \\lambda_1 = \\frac{\\sum_{i}^{n}x_i(1-\\gamma_i)}{\\sum_{i}^{n}(1-\\gamma_i)}\n",
    "    \\end{gathered}\n",
    "\\end{equation*}\n",
    "\n",
    "Similarly, solving for $\\lambda_2$:\n",
    "\\begin{equation*}\n",
    "    \\begin{gathered}\n",
    "        \\sum_i^{n} -\\gamma_i\\left[-\\gamma_i + \\frac{x_i}{\\lambda_2}\\right] = 0\\\\\n",
    "        \\therefore \\lambda_2 = \\frac{\\sum_i^{n}\\gamma_ix_i}{\\sum_i^{n}\\gamma_{i}}\n",
    "    \\end{gathered}\n",
    "\\end{equation*}"
   ]
  },
  {
   "cell_type": "markdown",
   "id": "aaf4f4e5",
   "metadata": {},
   "source": [
    "### b. Suppose the following data are observed $1, 2, 3, 8$ and $12$ perform one iteration (BY HAND!!) of the EM algorithm to estimate the parameters. You can use an ordinary calculator OR the calculator facilities in R [10]"
   ]
  },
  {
   "cell_type": "markdown",
   "id": "297b3a7a",
   "metadata": {
    "ExecuteTime": {
     "end_time": "2021-09-29T13:03:11.782616Z",
     "start_time": "2021-09-29T13:03:11.763Z"
    }
   },
   "source": [
    "%%latex\n",
    "\n",
    "Using the above derived equations, the following table lists the results of the E-M algorithm for a single iteration, choosing $\\theta = 0.5$, $\\lambda=2$ and $\\mu=8$ as the starting values.\n",
    "Firstly solving the expectation step:\n",
    "\\begin{equation*}\n",
    "    \\gamma_i = \\frac{\\hat{\\pi}f_{2, \\lambda_{0}}(x_i)}{(1-\\hat{\\pi})f_{1, \\mu_{0}}(x_i) + \\hat{\\pi}f_{2, \\lambda_{0}}(x_i)}\n",
    "\\end{equation*}\n",
    "Setting $\\theta = 0.5$ and summing across all values of $x$:\n",
    "\\begin{equation*}\n",
    "    \\gamma_0 = \\sum_{i}^{n}\\frac{0.5f_{2, \\lambda_{0}}(x_i)}{(1-0.5)f_{1, \\mu_{0}}(x_i) + 0.5f_{2, \\lambda_{0}}(x_i)} = 2.821\n",
    "\\end{equation*}\n",
    "The new value for $\\hat{\\theta}$ is now $\\frac{\\gamma_{0}}{n} = \\frac{2.82}{5} = 0.564$ \n",
    "Performing the maximization step:\n",
    "\n",
    "\\begin{equation*}\n",
    "    \\begin{gathered}\n",
    "        \\lambda_1 = \\frac{\\sum_{i}^{n}x_i(1-\\gamma_i)}{\\sum_{i}^{n}(1-\\gamma_i)} = 1.968\\\\\n",
    "        \\mu_1 =  \\frac{\\sum_i^{n}\\gamma_ix_i}{\\sum_i^{n}\\gamma_{i}} = 9.385\n",
    "    \\end{gathered}\n",
    "\\end{equation*}"
   ]
  },
  {
   "cell_type": "markdown",
   "id": "39fb6e7e",
   "metadata": {},
   "source": [
    "### c. Write R code to perform the EM Algorithm and include in the R code an appropriate stopping tolerance level."
   ]
  },
  {
   "cell_type": "code",
   "execution_count": 2,
   "id": "54db8267",
   "metadata": {
    "ExecuteTime": {
     "end_time": "2021-09-29T13:58:23.904625Z",
     "start_time": "2021-09-29T13:58:23.896Z"
    }
   },
   "outputs": [],
   "source": [
    "e_step <- function(x, mean_1, mean_2, pi) {\n",
    "    return(\n",
    "        (pi * dpois(x, mean_2, log=FALSE))/\n",
    "        ((1-pi)*dpois(x, mean_1, log=FALSE) + pi*dpois(x, mean_2, log=FALSE))\n",
    "    )\n",
    "}\n",
    "\n",
    "m_step <- function(x, gamma) {\n",
    "    mean_1 = sum(x*(1-gamma))/sum(1-gamma)\n",
    "    mean_2 = sum(x*gamma)/sum(gamma)\n",
    "\n",
    "    return(c(mean_1, mean_2))\n",
    "}"
   ]
  },
  {
   "cell_type": "code",
   "execution_count": 6,
   "id": "61ed72fa",
   "metadata": {
    "ExecuteTime": {
     "end_time": "2021-09-29T13:59:03.700683Z",
     "start_time": "2021-09-29T13:59:03.691Z"
    }
   },
   "outputs": [],
   "source": [
    "e_step <- function(x, mean_1, mean_2, pi) {\n",
    "    return(\n",
    "        (pi * dpois(x, mean_2, log=FALSE))/\n",
    "        ((1-pi)*dpois(x, mean_1, log=FALSE) + pi*dpois(x, mean_2, log=FALSE))\n",
    "    )\n",
    "}\n",
    "\n",
    "m_step <- function(x, gamma) {\n",
    "    mean_1 = sum(x*(1-gamma))/sum(1-gamma)\n",
    "    mean_2 = sum(x*gamma)/sum(gamma)\n",
    "\n",
    "    return(c(mean_1, mean_2))\n",
    "}\n",
    "\n",
    "e_m <- function(x, mean_1_0, mean_2_0, pi_0, tol=1e-10, max_iter=1000) {\n",
    "    # specifies change of means at every iteration\n",
    "    delta <- Inf\n",
    "    # wrap both means into vector\n",
    "    means <- c(mean_1_0, mean_2_0)\n",
    "    pi <- pi_0\n",
    "    iter <- 1\n",
    "    \n",
    "    \n",
    "    while (delta > tol) {\n",
    "        # update new gamma values in expectation step\n",
    "        gamma_prev <- e_step(x, means[1], means[2], pi)\n",
    "        # use updated gamma to maximize both means in  maximization step\n",
    "        new_means <- m_step(x, gamma_prev)\n",
    "        means <- new_means\n",
    "        # update pi (proportion) \n",
    "        pi <- sum(gamma_prev)/length(x)\n",
    "        \n",
    "        # calculate change in old and new estimates \n",
    "        delta <- abs(new_means[1]-means[1] + new_means[2]-means[2])\n",
    "        iter <- iter + 1\n",
    "        \n",
    "        \n",
    "        # if gradients explode, return error\n",
    "        if (is.na(delta)) {\n",
    "            return(\"ERROR: EXPLOSION\")\n",
    "        }\n",
    "        \n",
    "        # if more than max_iter or change is below tolerance, stop and return\n",
    "        if (iter >= max_iter | delta < tol) {\n",
    "             return(c(new_means, pi))  \n",
    "        }\n",
    " \n",
    "                \n",
    "    }\n",
    "    return(c(new_means, pi))  \n",
    "}"
   ]
  },
  {
   "cell_type": "code",
   "execution_count": 7,
   "id": "c7c2a76a",
   "metadata": {
    "ExecuteTime": {
     "end_time": "2021-09-29T13:59:05.118968Z",
     "start_time": "2021-09-29T13:59:05.108Z"
    }
   },
   "outputs": [
    {
     "data": {
      "text/html": [
       "13"
      ],
      "text/latex": [
       "13"
      ],
      "text/markdown": [
       "13"
      ],
      "text/plain": [
       "[1] 13"
      ]
     },
     "metadata": {},
     "output_type": "display_data"
    },
    {
     "data": {
      "text/html": [
       "<ol class=list-inline>\n",
       "\t<li>1.96804542968633</li>\n",
       "\t<li>9.38506598786482</li>\n",
       "</ol>\n"
      ],
      "text/latex": [
       "\\begin{enumerate*}\n",
       "\\item 1.96804542968633\n",
       "\\item 9.38506598786482\n",
       "\\end{enumerate*}\n"
      ],
      "text/markdown": [
       "1. 1.96804542968633\n",
       "2. 9.38506598786482\n",
       "\n",
       "\n"
      ],
      "text/plain": [
       "[1] 1.968045 9.385066"
      ]
     },
     "metadata": {},
     "output_type": "display_data"
    }
   ],
   "source": [
    "x = c(1, 2, 3, 8 ,12)\n",
    "\n",
    "sum(0.5 * x)\n",
    "\n",
    "gamma <- e_step(x, 2, 8, 0.5)\n",
    "m_step(x, gamma)"
   ]
  },
  {
   "cell_type": "markdown",
   "id": "e297e67d",
   "metadata": {},
   "source": [
    "### d. Generate 100 values from a Poisson distribution with mean 5 and 900 values from a Poisson distribution with mean 10. Amalgamate those 1000 values into a single column. Then, run the R code you constructed to see how well your algorithm is able to estimate the parameters."
   ]
  },
  {
   "cell_type": "code",
   "execution_count": 27,
   "id": "d15b0e97",
   "metadata": {
    "ExecuteTime": {
     "end_time": "2021-09-29T14:00:44.414312Z",
     "start_time": "2021-09-29T14:00:44.393Z"
    }
   },
   "outputs": [
    {
     "data": {
      "text/html": [
       "<ol class=list-inline>\n",
       "\t<li>3.70450652859229</li>\n",
       "\t<li>9.95064324920369</li>\n",
       "\t<li>0.932335254876982</li>\n",
       "</ol>\n"
      ],
      "text/latex": [
       "\\begin{enumerate*}\n",
       "\\item 3.70450652859229\n",
       "\\item 9.95064324920369\n",
       "\\item 0.932335254876982\n",
       "\\end{enumerate*}\n"
      ],
      "text/markdown": [
       "1. 3.70450652859229\n",
       "2. 9.95064324920369\n",
       "3. 0.932335254876982\n",
       "\n",
       "\n"
      ],
      "text/plain": [
       "[1] 3.7045065 9.9506432 0.9323353"
      ]
     },
     "metadata": {},
     "output_type": "display_data"
    }
   ],
   "source": [
    "set.seed(12020569)\n",
    "\n",
    "# Set means for both distributions\n",
    "means <- c(5, 10)\n",
    "\n",
    "# let number of values generated be n\n",
    "n <- c(100, 900)\n",
    "\n",
    "# generate 1000 samples from distributions in one column\n",
    "x <- c(rpois(n[1], means[1]), rpois(n[2], means[2]))\n",
    "\n",
    "e_m(x, 2, 7, 0.5)"
   ]
  },
  {
   "cell_type": "markdown",
   "id": "605162ad",
   "metadata": {},
   "source": [
    "# Question II"
   ]
  },
  {
   "cell_type": "markdown",
   "id": "e3d2635a",
   "metadata": {},
   "source": [
    "#### a. Show that the function illustrated in Table 1 represents the joint probability mass function of the two discrete random variables X and Y? Justify your answer [2] "
   ]
  },
  {
   "cell_type": "markdown",
   "id": "5fa7da7f",
   "metadata": {
    "ExecuteTime": {
     "end_time": "2021-09-29T13:40:24.173496Z",
     "start_time": "2021-09-29T13:40:24.167Z"
    }
   },
   "source": [
    "<table>\n",
    "    <tr>\n",
    "        <td rowspan=\"2\">y</td>\n",
    "        <td><b>1</b></td>\n",
    "        <td>$\\frac{1}{20}$</td>\n",
    "        <td>$\\frac{2}{20}$</td>\n",
    "        <td>$\\frac{1}{20}$</td>        \n",
    "    </tr>\n",
    "    <tr>\n",
    "        <td><b>2</b></td>\n",
    "        <td>$\\frac{4}{20}$</td>\n",
    "        <td>$\\frac{7}{20}$</td>\n",
    "        <td>$\\frac{5}{20}$</td>    \n",
    "    </tr>\n",
    "</table>\n",
    "\\begin{tabular}{|c|c|c|c|c|}\n",
    "\\hline\n",
    " f(x,y)  &  & \\multicolumn{3}{|c|}x\\\\\n",
    " \\hline\n",
    "  & & \\textbf{1} & \\textbf{2} & \\textbf{3}\\\\\n",
    " \\hline\n",
    " \\multirow{2}{1em}y & \\textbf{1} & 1/20 & 2/20 & 1/20\\\\\n",
    "  & \\textbf{2} & 4/20 & 7/20 & 5/20\\\\\n",
    " \\hline\n",
    "\\end{tabular}"
   ]
  },
  {
   "cell_type": "markdown",
   "id": "5f680632",
   "metadata": {},
   "source": [
    "%%latex              \n",
    "In order to show that the above represents a joint PMF, the individual probabilities must sum to unity. From the above:\n",
    "\\begin{equation*}\n",
    "\\frac{1}{20}+\\frac{2}{20}+\\frac{1}{20}+\\frac{4}{20}+\\frac{7}{20}+\\frac{5}{20}=\\frac{20}{20}=1\n",
    "\\end{equation*}"
   ]
  },
  {
   "cell_type": "markdown",
   "id": "ca3422df",
   "metadata": {
    "ExecuteTime": {
     "end_time": "2021-09-29T13:56:38.593723Z",
     "start_time": "2021-09-29T13:56:38.585Z"
    }
   },
   "source": [
    "#### b. Find $E(XY)$ by hand. Leave your answer in exact form "
   ]
  },
  {
   "cell_type": "markdown",
   "id": "878b41a8",
   "metadata": {},
   "source": [
    "%%latex \n",
    "\\vspace{5mm}\n",
    "Let $g(X,Y)=XY$ be a function of of the joint PMF. In order to find the expectation:\n",
    "\\begin{equation*}\n",
    "\\begin{split}\n",
    "    E(XY) = E[g(X,Y)] &= \\sum_{x}\\sum_{y}g(x,y)p(x,y)\\\\\n",
    "    \\Rightarrow E[XY] &= \\sum_7\\sum_y xy\\cdot p(x,y)\\\\\n",
    "    &= (1)(1)\\frac{1}{20}+(1)(2)\\frac{4}{20}+(2)(1)\\frac{2}{20}+(2)(2)\\frac{7}{20}+(3)(1)\\frac{1}{20}+(3)(2)\\frac{5}{20}\\\\\n",
    "    &= \\frac{1}{20}+\\frac{8}{20}+\\frac{4}{20}+\\frac{28}{20}+\\frac{3}{20}+\\frac{30}{20}\\\\\n",
    "    &= \\frac{74}{20}\n",
    "    \\end{split}\n",
    "\\end{equation*}"
   ]
  },
  {
   "cell_type": "markdown",
   "id": "83dad5e0",
   "metadata": {},
   "source": [
    "#### c. Write an appropriate algorithm to generate pairs of random variables X and Y from the joint probability mass function in Table 1"
   ]
  },
  {
   "cell_type": "markdown",
   "id": "f2332888",
   "metadata": {},
   "source": [
    "##### d. i) Implement the algorithm in R and generate 100,000 pairs of random variables (X,Y) from the distribution"
   ]
  },
  {
   "cell_type": "markdown",
   "id": "350a26a4",
   "metadata": {},
   "source": [
    "##### d. ii) Estimate E(XY) from the 100,000 pairs of values you simulated (USE R!)"
   ]
  },
  {
   "cell_type": "markdown",
   "id": "319afce0",
   "metadata": {},
   "source": [
    "##### d. iii) Compare the estimated mean of E(XY) with the true mean you found in (b)"
   ]
  },
  {
   "cell_type": "markdown",
   "id": "550fdd85",
   "metadata": {},
   "source": [
    "## TO REFORMAT"
   ]
  },
  {
   "cell_type": "code",
   "execution_count": null,
   "id": "fc732873",
   "metadata": {
    "ExecuteTime": {
     "end_time": "2021-09-29T13:58:23.955903Z",
     "start_time": "2021-09-29T13:58:23.936Z"
    }
   },
   "outputs": [],
   "source": [
    "lambda <- 2\n",
    "mu <- 8\n",
    "\n",
    "dpois(x, lambda, log = FALSE)"
   ]
  },
  {
   "cell_type": "code",
   "execution_count": null,
   "id": "d5a59481",
   "metadata": {
    "ExecuteTime": {
     "end_time": "2021-09-29T13:58:23.956623Z",
     "start_time": "2021-09-29T13:58:23.937Z"
    }
   },
   "outputs": [],
   "source": [
    "dpois(x, mu, log=FALSE)"
   ]
  },
  {
   "cell_type": "code",
   "execution_count": null,
   "id": "018a5b45",
   "metadata": {
    "ExecuteTime": {
     "end_time": "2021-09-29T13:58:23.957753Z",
     "start_time": "2021-09-29T13:58:23.938Z"
    }
   },
   "outputs": [],
   "source": [
    "gamma <- sum(0.5*dpois(x, lambda, log=FALSE )/((1-0.5)*dpois(x, mu, log=FALSE) + 0.5*dpois(x, lambda, log=FALSE)))"
   ]
  },
  {
   "cell_type": "code",
   "execution_count": null,
   "id": "21fec5cb",
   "metadata": {
    "ExecuteTime": {
     "end_time": "2021-09-29T13:58:23.958861Z",
     "start_time": "2021-09-29T13:58:23.939Z"
    }
   },
   "outputs": [],
   "source": [
    "sum(x*(1-gamma))/sum(1-gamma)"
   ]
  },
  {
   "cell_type": "code",
   "execution_count": null,
   "id": "7e570f5d",
   "metadata": {
    "ExecuteTime": {
     "end_time": "2021-09-29T13:58:23.959953Z",
     "start_time": "2021-09-29T13:58:23.940Z"
    }
   },
   "outputs": [],
   "source": [
    "sum(x*gamma)/sum(gamma)"
   ]
  }
 ],
 "metadata": {
  "kernelspec": {
   "display_name": "R",
   "language": "R",
   "name": "ir"
  },
  "language_info": {
   "codemirror_mode": "r",
   "file_extension": ".r",
   "mimetype": "text/x-r-source",
   "name": "R",
   "pygments_lexer": "r",
   "version": "3.6.1"
  },
  "latex_envs": {
   "LaTeX_envs_menu_present": true,
   "autoclose": false,
   "autocomplete": true,
   "bibliofile": "biblio.bib",
   "cite_by": "apalike",
   "current_citInitial": 1,
   "eqLabelWithNumbers": true,
   "eqNumInitial": 1,
   "hotkeys": {
    "equation": "Ctrl-E",
    "itemize": "Ctrl-I"
   },
   "labels_anchors": false,
   "latex_user_defs": false,
   "report_style_numbering": false,
   "user_envs_cfg": false
  }
 },
 "nbformat": 4,
 "nbformat_minor": 5
}
